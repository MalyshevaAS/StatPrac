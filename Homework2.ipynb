{
 "cells": [
  {
   "cell_type": "code",
   "execution_count": 11,
   "metadata": {},
   "outputs": [
    {
     "name": "stdout",
     "output_type": "stream",
     "text": [
      "[[0.15226531 0.93343391 0.71655316 0.18143817 0.26433955 0.95810792]\n",
      " [0.43186112 0.19643162 0.54254841 0.36309678 0.20001814 0.54283263]\n",
      " [0.74365867 0.74852933 0.78338973 0.56149281 0.69001937 0.78761033]\n",
      " [0.99368344 0.17804223 0.78512992 0.27979806 0.37500012 0.95043141]\n",
      " [0.62423027 0.13324048 0.24439173 0.22420526 0.20672934 0.3741587 ]\n",
      " [0.61256083 0.44865235 0.98612652 0.50469383 0.32085361 0.43682132]]\n",
      "[21.05626034 17.08781484 17.65485382 19.6325015   9.03395957  8.84573421]\n"
     ]
    }
   ],
   "source": [
    "#Nomber2\n",
    "\n",
    "import numpy as np\n",
    "z = np.random.random((6,6))\n",
    "print(z)\n",
    "print(z.sum(axis=1)/z.min(axis=0))\n",
    "\n",
    "zmin, zmax = z[0].min(), z[0].max()"
   ]
  },
  {
   "cell_type": "code",
   "execution_count": 12,
   "metadata": {},
   "outputs": [
    {
     "name": "stdout",
     "output_type": "stream",
     "text": [
      "[1 3 4 7]\n",
      "7\n"
     ]
    }
   ],
   "source": [
    "#Nomber3\n",
    "\n",
    "x = np.array([6, 2, 0, 3, 0, 0, 5, 7, 0])\n",
    "y = np.where(x==0)[0]-1\n",
    "print(y)\n",
    "print(x[y].max())"
   ]
  },
  {
   "cell_type": "code",
   "execution_count": 45,
   "metadata": {},
   "outputs": [
    {
     "name": "stdout",
     "output_type": "stream",
     "text": [
      "[[0.75657222 0.58810438 0.25829742]\n",
      " [0.49401143 0.58677956 0.68897972]\n",
      " [0.91998026 0.56965726 0.95216015]\n",
      " [0.53619233 0.20604763 0.50106285]\n",
      " [0.51835306 0.57688982 0.5364753 ]\n",
      " [0.18060839 0.77402246 0.31047496]\n",
      " [0.55033923 0.59602813 0.19451695]\n",
      " [0.78548571 0.61572089 0.35187531]\n",
      " [0.01332054 0.6022539  0.35812087]\n",
      " [0.34639719 0.75817358 0.82414215]]\n",
      "[0.5881043760350313, 0.49401142947578636, 0.5696572623361008, 0.5010628493510042, 0.5183530633151837, 0.31047496240855654, 0.5503392344737729, 0.6157208852316086, 0.6022538994065, 0.34639719456431595]\n"
     ]
    }
   ],
   "source": [
    "#Nomber1\n",
    "\n",
    "a = np.random.random((10,3))\n",
    "print(a)\n",
    "c = [b[np.abs(b-0.5).argmin()] for b in a]\n",
    "print(c)"
   ]
  },
  {
   "cell_type": "code",
   "execution_count": null,
   "metadata": {},
   "outputs": [],
   "source": []
  }
 ],
 "metadata": {
  "kernelspec": {
   "display_name": "Python 3",
   "language": "python",
   "name": "python3"
  },
  "language_info": {
   "codemirror_mode": {
    "name": "ipython",
    "version": 3
   },
   "file_extension": ".py",
   "mimetype": "text/x-python",
   "name": "python",
   "nbconvert_exporter": "python",
   "pygments_lexer": "ipython3",
   "version": "3.7.1"
  }
 },
 "nbformat": 4,
 "nbformat_minor": 2
}
