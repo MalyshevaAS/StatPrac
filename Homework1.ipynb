{
 "cells": [
  {
   "cell_type": "code",
   "execution_count": 2,
   "metadata": {},
   "outputs": [
    {
     "name": "stdout",
     "output_type": "stream",
     "text": [
      "What is your name? Ann\n",
      "How old are you? 21\n",
      "Ann will be 100 years old in the year 2098\n"
     ]
    }
   ],
   "source": [
    "name = input(\"What is your name? \")\n",
    "age = int(input(\"How old are you? \"))\n",
    "year = str((2019 - age)+100)\n",
    "print(name + \" will be 100 years old in the year \" + year)"
   ]
  },
  {
   "cell_type": "code",
   "execution_count": 2,
   "metadata": {},
   "outputs": [
    {
     "name": "stdout",
     "output_type": "stream",
     "text": [
      "Your number: 13\n",
      "[21, 34, 55, 89]\n"
     ]
    }
   ],
   "source": [
    "a = [1, 1, 2, 3, 5, 8, 13, 21, 34, 55, 89]\n",
    "\n",
    "n = int(input(\"Your number: \" ))\n",
    "\n",
    "new_list = []\n",
    "\n",
    "for i in a:\n",
    "    if i > n:\n",
    "        new_list.append(i)\n",
    "        \n",
    "print(new_list)"
   ]
  },
  {
   "cell_type": "code",
   "execution_count": 8,
   "metadata": {},
   "outputs": [
    {
     "name": "stdout",
     "output_type": "stream",
     "text": [
      "Enter the number between 1 to 9: 3\n",
      "High!\n",
      "Enter the number between 1 to 9: 2\n",
      "Right!\n",
      "Number of attempts: 2\n"
     ]
    }
   ],
   "source": [
    "import random\n",
    "\n",
    "\n",
    "m = random.randint(1,9)\n",
    " \n",
    "g = 0\n",
    "c = 0 \n",
    "\n",
    "while g != m and g != \"exit\":\n",
    "    g = input(\"Enter the number between 1 to 9: \")\n",
    "    \n",
    "    if g == \"exit\": \n",
    "        break\n",
    "        \n",
    "    g = int(g)\n",
    "    c += 1\n",
    "        \n",
    "    if g < m:\n",
    "        print(\"Low!\")\n",
    "    elif g > m:\n",
    "        print(\"High!\")    \n",
    "    else:\n",
    "        print(\"Right!\")\n",
    "        print(\"Number of attempts:\" , c)"
   ]
  },
  {
   "cell_type": "code",
   "execution_count": 14,
   "metadata": {},
   "outputs": [
    {
     "name": "stdout",
     "output_type": "stream",
     "text": [
      "Password: B!$d9SaY\n"
     ]
    }
   ],
   "source": [
    "import random \n",
    "\n",
    "s = \"abcdefghijklmnopqrstuvwxyz01234567890ABCDEFGHIJKLMNOPQRSTUVWXYZ!@#$%^&*()?\"\n",
    "l = 8\n",
    "\n",
    "p = \"\".join(random.sample(s, l)) \n",
    "\n",
    "print(\"Password:\", p)\n",
    "    "
   ]
  }
 ],
 "metadata": {
  "kernelspec": {
   "display_name": "Python 3",
   "language": "python",
   "name": "python3"
  }
 },
 "nbformat": 4,
 "nbformat_minor": 2
}
