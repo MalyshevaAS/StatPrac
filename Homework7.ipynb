{
 "cells": [
  {
   "cell_type": "code",
   "execution_count": 2,
   "metadata": {},
   "outputs": [],
   "source": [
    "import numpy as np\n",
    "from scipy.stats import binom\n",
    "\n",
    "M = 10\n",
    "eps = 0.0001\n",
    "y = np.array([7, 7, 1, 3, 2, 1, 5, 1, 4, 0, 2, 3, 3, 1, 2, 2, 3, 1, 4, 0, 8, 3, 5, 3, 0, 0, 7, 1, 1, 3, 1, 3, 2, 4, 1, 6, 2, 2, 4, 1, 3, 1, 1, 2, 7, 3, 3, 2, 2, 2])\n",
    "\n",
    "\n",
    "def e_step(x, M, mu1, mu2, p1): \n",
    "    p2 = 1 - p1\n",
    "    ev1 = binom.pmf(x, M, mu1)*p1/(binom.pmf(x, M, mu1)*p1 + binom.pmf(x, M, mu2)*p2)\n",
    "    ev2 = binom.pmf(x, M, mu2)*p2/(binom.pmf(x, M, mu1)*p1 + binom.pmf(x, M, mu2)*p2)\n",
    "    return ev1, ev2\n",
    "\n",
    "\n",
    "def m_step(x, M, v1, v2):\n",
    "    p1_n = sum(v1) / len(x)\n",
    "    p2_n = 1 - p1_n\n",
    "    mu1_n = sum(x * v1) / (M * sum(v1))\n",
    "    mu2_n = sum(x * v2) / (M * sum(v2))\n",
    "    return p1_n, p2_n, mu1_n, mu2_n\n",
    "\n",
    "\n",
    "def algorithm(x, mu1 = None, mu2 = None, p1 = None):\n",
    "    mu1 = mu1 or np.random.random()\n",
    "    mu2 = mu2 or np.random.random()   \n",
    "    p1 = p1 or np.random.random()\n",
    "    p2 = 1 - p1\n",
    " \n",
    "    print(\"p1 = %0.5f,  p2 = %0.5f,  mu1 = %0.5f,  mu2 = %0.5f\\n\" % (p1, p2, mu1, mu2))\n",
    "    print(\"   p1        p2       mu1       mu2\")\n",
    "    \n",
    "    while True:\n",
    "        tau1, tau2 = e_step(x, M, mu1, mu2, p1)\n",
    "        p1_n, p2_n, mu1_n, mu2_n = m_step(x, M, tau1, tau2)  \n",
    "        print(\" %0.5f   %0.5f   %0.5f   %0.5f\" % (p1_n, p2_n, mu1_n, mu2_n))\n",
    "        if np.sqrt((mu1 - mu1_n)**2 + (mu2 - mu2_n)**2 + 2 * (p1 - p1_n)**2) < eps:\n",
    "            break            \n",
    "        mu1, mu2, p1 = mu1_n, mu2_n, p1_n\n",
    "            \n"
   ]
  },
  {
   "cell_type": "code",
   "execution_count": 3,
   "metadata": {},
   "outputs": [
    {
     "name": "stdout",
     "output_type": "stream",
     "text": [
      "p1 = 0.29783,  p2 = 0.70217,  mu1 = 0.74002,  mu2 = 0.41247\n",
      "\n",
      "   p1        p2       mu1       mu2\n",
      " 0.08963   0.91037   0.68188   0.22945\n",
      " 0.12067   0.87933   0.67926   0.21384\n",
      " 0.13357   0.86643   0.66567   0.20900\n",
      " 0.14052   0.85948   0.65613   0.20687\n",
      " 0.14474   0.85526   0.65006   0.20568\n",
      " 0.14741   0.85259   0.64620   0.20496\n",
      " 0.14914   0.85086   0.64370   0.20450\n",
      " 0.15027   0.84973   0.64206   0.20420\n",
      " 0.15102   0.84898   0.64099   0.20401\n",
      " 0.15151   0.84849   0.64028   0.20388\n",
      " 0.15184   0.84816   0.63981   0.20380\n",
      " 0.15206   0.84794   0.63949   0.20374\n",
      " 0.15220   0.84780   0.63929   0.20370\n",
      " 0.15230   0.84770   0.63915   0.20368\n",
      " 0.15236   0.84764   0.63906   0.20366\n",
      " 0.15241   0.84759   0.63899   0.20365\n"
     ]
    }
   ],
   "source": [
    " algorithm(y)"
   ]
  }
 ],
 "metadata": {
  "kernelspec": {
   "display_name": "Python 3",
   "language": "python",
   "name": "python3"
  },
  "language_info": {
   "codemirror_mode": {
    "name": "ipython",
    "version": 3
   },
   "file_extension": ".py",
   "mimetype": "text/x-python",
   "name": "python",
   "nbconvert_exporter": "python",
   "pygments_lexer": "ipython3",
   "version": "3.7.1"
  }
 },
 "nbformat": 4,
 "nbformat_minor": 2
}
